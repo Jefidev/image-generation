{
 "cells": [
  {
   "cell_type": "markdown",
   "id": "a5d974e0-b1f4-4bc5-804e-416f2a3e60e9",
   "metadata": {},
   "source": [
    "# PixelCNN\n",
    "\n",
    "As explained at the end of the Naïve Face Generation notebook, to effectively generate images we need to sample each pixels given te surrounding one. This notebook presents an early approach to construct a model able to do that called **PixelCNN**. \n",
    "\n",
    "To formalize mathematically the problem, $p(x)$ represent the pixels distribution of an images. Which is equivalent to the joint probability of each pixels $p(x_1, x_2, ..., x_n)$. Modelizing the whole joint probability is too expensive, thus we made the hypothesis that $p(x_i) = p(x_i | x_{i-1})p(x_{i-1})$. Meaning that te probability of the pixel $x_i$ only depends on the previous pixel.\n",
    "\n",
    "This simplification makes it easier to compute the whole probability of an images that could be rewritte like that given our assumption :\n",
    "$p(x_n | x_{n-1})...p(x_2 | x_1)p(x_1)$\n",
    "\n",
    "PixelCNN will learn the parameter of those distribution based on example. In this notebook we are going to generate numbers from the **mnist** dataset. First part of the code will focus on the loading and pre-processing of the dataset."
   ]
  },
  {
   "cell_type": "code",
   "execution_count": null,
   "id": "74dec488-b374-43fd-9534-452df48f33f1",
   "metadata": {},
   "outputs": [],
   "source": []
  }
 ],
 "metadata": {
  "kernelspec": {
   "display_name": "Python (3.9)",
   "language": "python",
   "name": "python-3.9"
  },
  "language_info": {
   "codemirror_mode": {
    "name": "ipython",
    "version": 3
   },
   "file_extension": ".py",
   "mimetype": "text/x-python",
   "name": "python",
   "nbconvert_exporter": "python",
   "pygments_lexer": "ipython3",
   "version": "3.9.9"
  }
 },
 "nbformat": 4,
 "nbformat_minor": 5
}
