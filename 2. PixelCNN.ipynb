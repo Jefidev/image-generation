{
 "cells": [
  {
   "cell_type": "markdown",
   "id": "a5d974e0-b1f4-4bc5-804e-416f2a3e60e9",
   "metadata": {},
   "source": [
    "# PixelCNN\n",
    "\n",
    "As explained at the end of the Naïve Face Generation notebook, to effectively generate images we need to sample each pixels given te surrounding one. This notebook presents an early approach to construct a model able to do that called **PixelCNN**. \n",
    "\n",
    "To formalize mathematically the problem, $p(x)$ represent the pixels distribution of an images. Which is equivalent to the joint probability of each pixels $p(x_1, x_2, ..., x_n)$. Modelizing the whole joint probability is too expensive, thus we made the hypothesis that $p(x_i) = p(x_i | x_{i-1})p(x_{i-1})$. Meaning that te probability of the pixel $x_i$ only depends on the previous pixel.\n",
    "\n",
    "This simplification makes it easier to compute the whole probability of an images that could be rewritte like that given our assumption :\n",
    "$p(x_n | x_{n-1})...p(x_2 | x_1)p(x_1)$\n",
    "\n",
    "PixelCNN will learn the parameter of those distribution based on example. In this notebook we are going to generate numbers from the **mnist** dataset. First part of the code will focus on the loading and pre-processing of the dataset.\n",
    "\n",
    "The dataset chose is the [MNIST](http://yann.lecun.com/exdb/mnist/) dataset. It consists of 28x28 images of handwritten digits. We preprocess the image to make them binary. Meaning that the background of the image have a value of 0 and the foreground of the image have a value of 1 without gray scale. This preprocessing will help the model to generate better numbers."
   ]
  },
  {
   "cell_type": "code",
   "execution_count": 1,
   "id": "74dec488-b374-43fd-9534-452df48f33f1",
   "metadata": {},
   "outputs": [
    {
     "data": {
      "image/png": "[encoded data removed]",
      "text/plain": [
       "<Figure size 2448x720 with 10 Axes>"
      ]
     },
     "metadata": {
      "needs_background": "light"
     },
     "output_type": "display_data"
    }
   ],
   "source": [
    "from utils.mnist import *\n",
    "\n",
    "mnist_path = \"./ressources/mnist\"\n",
    "\n",
    "X, y = load_mnist(mnist_path, binary_images=True)\n",
    "\n",
    "plot_images(X[:10])"
   ]
  },
  {
   "cell_type": "markdown",
   "id": "3d2f45f5",
   "metadata": {},
   "source": [
    "## Pixel CNN\n",
    "\n",
    "Our first Generator Network leverage the successful Convolutional Neural Network architecture. However, classic CNN are able to look at a pixel and all the surrounding pixels. As we are trying to generate the next pixel based on the previous one, the Convolutionnal Layer should be constrained to only look at the previous pixel. \n",
    "\n",
    "The next cell shows the implementation of such a CNN layer."
   ]
  }
 ],
 "metadata": {
  "interpreter": {
   "hash": "e7370f93d1d0cde622a1f8e1c04877d8463912d04d973331ad4851f04de6915a"
  },
  "kernelspec": {
   "display_name": "Python (3.9)",
   "language": "python",
   "name": "python3"
  },
  "language_info": {
   "codemirror_mode": {
    "name": "ipython",
    "version": 3
   },
   "file_extension": ".py",
   "mimetype": "text/x-python",
   "name": "python",
   "nbconvert_exporter": "python",
   "pygments_lexer": "ipython3",
   "version": "3.10.1"
  }
 },
 "nbformat": 4,
 "nbformat_minor": 5
}
